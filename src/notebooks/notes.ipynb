{
 "cells": [
  {
   "cell_type": "code",
   "execution_count": 1,
   "metadata": {},
   "outputs": [],
   "source": [
    "import pandas as pd\n",
    "import matplotlib.pyplot as plt\n",
    "import plotly.graph_objects as go"
   ]
  },
  {
   "cell_type": "code",
   "execution_count": 4,
   "metadata": {},
   "outputs": [
    {
     "name": "stdout",
     "output_type": "stream",
     "text": [
      "Number of subfolders in '/work3/s220243/Thesis/all_validation_images/validation': 110\n"
     ]
    }
   ],
   "source": [
    "import os\n",
    "\n",
    "def count_subfolders(directory):\n",
    "    subfolders = [f.path for f in os.scandir(directory) if f.is_dir()]\n",
    "    return len(subfolders)\n",
    "\n",
    "# Example usage\n",
    "directory_path = '/work3/s220243/Thesis/all_validation_images/validation'\n",
    "num_subfolders = count_subfolders(directory_path)\n",
    "print(f\"Number of subfolders in '{directory_path}': {num_subfolders}\")"
   ]
  },
  {
   "cell_type": "code",
   "execution_count": null,
   "metadata": {},
   "outputs": [],
   "source": []
  },
  {
   "cell_type": "code",
   "execution_count": 2,
   "metadata": {},
   "outputs": [],
   "source": [
    "base_path = '/zhome/ac/d/174101/thesis'"
   ]
  },
  {
   "cell_type": "code",
   "execution_count": 3,
   "metadata": {},
   "outputs": [
    {
     "data": {
      "text/html": [
       "<div>\n",
       "<style scoped>\n",
       "    .dataframe tbody tr th:only-of-type {\n",
       "        vertical-align: middle;\n",
       "    }\n",
       "\n",
       "    .dataframe tbody tr th {\n",
       "        vertical-align: top;\n",
       "    }\n",
       "\n",
       "    .dataframe thead th {\n",
       "        text-align: right;\n",
       "    }\n",
       "</style>\n",
       "<table border=\"1\" class=\"dataframe\">\n",
       "  <thead>\n",
       "    <tr style=\"text-align: right;\">\n",
       "      <th></th>\n",
       "      <th>event_id</th>\n",
       "      <th>IBT number</th>\n",
       "      <th>genus</th>\n",
       "      <th>species</th>\n",
       "      <th>start date</th>\n",
       "      <th>end date</th>\n",
       "      <th>date of picture</th>\n",
       "      <th>image no</th>\n",
       "      <th>video</th>\n",
       "      <th>temperature</th>\n",
       "      <th>picture interval</th>\n",
       "      <th>comments</th>\n",
       "      <th>Reshape Job ID</th>\n",
       "      <th>Reshape plate position</th>\n",
       "      <th>Ofba reference list</th>\n",
       "      <th>Comments</th>\n",
       "    </tr>\n",
       "  </thead>\n",
       "  <tbody>\n",
       "    <tr>\n",
       "      <th>0</th>\n",
       "      <td>ima001</td>\n",
       "      <td>IBT 12085</td>\n",
       "      <td>Penicillium</td>\n",
       "      <td>smithii</td>\n",
       "      <td>2023-02-20</td>\n",
       "      <td>2023-02-27</td>\n",
       "      <td>day 4</td>\n",
       "      <td>192</td>\n",
       "      <td>NaN</td>\n",
       "      <td>25</td>\n",
       "      <td>30 min</td>\n",
       "      <td>NaN</td>\n",
       "      <td>NaN</td>\n",
       "      <td>NaN</td>\n",
       "      <td>NaN</td>\n",
       "      <td>NaN</td>\n",
       "    </tr>\n",
       "    <tr>\n",
       "      <th>1</th>\n",
       "      <td>ima001</td>\n",
       "      <td>IBT 13516</td>\n",
       "      <td>Penicilluim</td>\n",
       "      <td>bilaiae</td>\n",
       "      <td>2023-02-20</td>\n",
       "      <td>2023-02-27</td>\n",
       "      <td>day 4</td>\n",
       "      <td>192</td>\n",
       "      <td>NaN</td>\n",
       "      <td>25</td>\n",
       "      <td>30 min</td>\n",
       "      <td>NaN</td>\n",
       "      <td>NaN</td>\n",
       "      <td>NaN</td>\n",
       "      <td>NaN</td>\n",
       "      <td>NaN</td>\n",
       "    </tr>\n",
       "    <tr>\n",
       "      <th>2</th>\n",
       "      <td>ima001</td>\n",
       "      <td>IBT 21948</td>\n",
       "      <td>Penicilluim</td>\n",
       "      <td>malodoratum</td>\n",
       "      <td>2023-02-20</td>\n",
       "      <td>2023-02-27</td>\n",
       "      <td>day 4</td>\n",
       "      <td>192</td>\n",
       "      <td>NaN</td>\n",
       "      <td>25</td>\n",
       "      <td>30 min</td>\n",
       "      <td>NaN</td>\n",
       "      <td>NaN</td>\n",
       "      <td>NaN</td>\n",
       "      <td>NaN</td>\n",
       "      <td>NaN</td>\n",
       "    </tr>\n",
       "    <tr>\n",
       "      <th>3</th>\n",
       "      <td>ima001</td>\n",
       "      <td>IBT 21902</td>\n",
       "      <td>Aspergillus</td>\n",
       "      <td>astellatus</td>\n",
       "      <td>2023-02-20</td>\n",
       "      <td>2023-02-27</td>\n",
       "      <td>day 4</td>\n",
       "      <td>192</td>\n",
       "      <td>NaN</td>\n",
       "      <td>25</td>\n",
       "      <td>30 min</td>\n",
       "      <td>NaN</td>\n",
       "      <td>NaN</td>\n",
       "      <td>NaN</td>\n",
       "      <td>NaN</td>\n",
       "      <td>NaN</td>\n",
       "    </tr>\n",
       "    <tr>\n",
       "      <th>4</th>\n",
       "      <td>ima001</td>\n",
       "      <td>NID174</td>\n",
       "      <td>Aspergillus</td>\n",
       "      <td>nidulans</td>\n",
       "      <td>2023-02-20</td>\n",
       "      <td>2023-02-27</td>\n",
       "      <td>day 4</td>\n",
       "      <td>192</td>\n",
       "      <td>NaN</td>\n",
       "      <td>25</td>\n",
       "      <td>30 min</td>\n",
       "      <td>NaN</td>\n",
       "      <td>NaN</td>\n",
       "      <td>NaN</td>\n",
       "      <td>NaN</td>\n",
       "      <td>NaN</td>\n",
       "    </tr>\n",
       "  </tbody>\n",
       "</table>\n",
       "</div>"
      ],
      "text/plain": [
       "0 event_id IBT number        genus      species start date    end date  \\\n",
       "0   ima001  IBT 12085  Penicillium      smithii  2023-02-20 2023-02-27   \n",
       "1   ima001  IBT 13516  Penicilluim      bilaiae  2023-02-20 2023-02-27   \n",
       "2   ima001  IBT 21948  Penicilluim  malodoratum  2023-02-20 2023-02-27   \n",
       "3   ima001  IBT 21902  Aspergillus   astellatus  2023-02-20 2023-02-27   \n",
       "4   ima001     NID174  Aspergillus     nidulans  2023-02-20 2023-02-27   \n",
       "\n",
       "0 date of picture image no video temperature picture interval comments  \\\n",
       "0           day 4      192   NaN          25           30 min      NaN   \n",
       "1           day 4      192   NaN          25           30 min      NaN   \n",
       "2           day 4      192   NaN          25           30 min      NaN   \n",
       "3           day 4      192   NaN          25           30 min      NaN   \n",
       "4           day 4      192   NaN          25           30 min      NaN   \n",
       "\n",
       "0 Reshape Job ID Reshape plate position Ofba reference list Comments  \n",
       "0            NaN                    NaN                 NaN      NaN  \n",
       "1            NaN                    NaN                 NaN      NaN  \n",
       "2            NaN                    NaN                 NaN      NaN  \n",
       "3            NaN                    NaN                 NaN      NaN  \n",
       "4            NaN                    NaN                 NaN      NaN  "
      ]
     },
     "execution_count": 3,
     "metadata": {},
     "output_type": "execute_result"
    }
   ],
   "source": [
    "df = pd.read_excel(f\"{base_path}/data/imageAnalysis_information.xlsx\")\n",
    "df  = pd.DataFrame(df.values[1:], columns=df.iloc[0])\n",
    "df.head()"
   ]
  },
  {
   "cell_type": "code",
   "execution_count": 4,
   "metadata": {},
   "outputs": [],
   "source": [
    "# Strip the blank spaces from names\n",
    "df['species'] = df['species'].str.strip()\n",
    "df['genus'] = df['genus'].str.strip()"
   ]
  },
  {
   "cell_type": "code",
   "execution_count": 5,
   "metadata": {},
   "outputs": [],
   "source": [
    "# Count the occurrences\n",
    "species_count = df['species'].value_counts()\n",
    "genus_count = df['genus'].value_counts()\n",
    "date_of_count = df['date of picture'].value_counts()\n",
    "image_number_count = df['image no'].value_counts()\n"
   ]
  },
  {
   "cell_type": "code",
   "execution_count": 6,
   "metadata": {},
   "outputs": [
    {
     "data": {
      "text/plain": [
       "\"\\nplt.figure(figsize=(12, 6))\\nplt.bar(filtered_df['Target'], filtered_df['Different IBTs'], color='skyblue')\\nplt.xlabel('Class')\\nplt.ylabel('Number of IBTs')\\nplt.title('Number of IBTs per Class')\\nplt.xticks(rotation=90)\\nplt.tight_layout()\\nplt.show()\\n\\nfiltered_df\\n\""
      ]
     },
     "execution_count": 6,
     "metadata": {},
     "output_type": "execute_result"
    }
   ],
   "source": [
    "IBTs_df = pd.DataFrame({\"IBT_number\": df['IBT number'],\n",
    "                          \"Target\" : df[\"genus\"]+\"-\"+df[\"species\"]})\n",
    "\n",
    "IBTs_df.dropna()\n",
    "\n",
    "# Group by the 'Target' column and aggregate 'IBT_number' into a list\n",
    "grouped_df = IBTs_df.groupby('Target').agg({\n",
    "    'IBT_number': lambda x: list(x)\n",
    "}).reset_index()\n",
    "\n",
    "# Rename the aggregated column if needed\n",
    "grouped_df = grouped_df.rename(columns={'IBT_number': 'IBT_numbers'})\n",
    "\n",
    "grouped_df['Different IBTs'] = grouped_df['IBT_numbers'].apply(len)\n",
    "\n",
    "filtered_df = grouped_df[grouped_df['Different IBTs'] > 1]\n",
    "\n",
    "filtered_df = filtered_df.sort_values(by='Different IBTs', ascending=False)\n",
    "'''\n",
    "plt.figure(figsize=(12, 6))\n",
    "plt.bar(filtered_df['Target'], filtered_df['Different IBTs'], color='skyblue')\n",
    "plt.xlabel('Class')\n",
    "plt.ylabel('Number of IBTs')\n",
    "plt.title('Number of IBTs per Class')\n",
    "plt.xticks(rotation=90)\n",
    "plt.tight_layout()\n",
    "plt.show()\n",
    "\n",
    "filtered_df\n",
    "'''"
   ]
  },
  {
   "cell_type": "code",
   "execution_count": 7,
   "metadata": {},
   "outputs": [
    {
     "data": {
      "image/png": "[encoded data removed]",
      "text/plain": [
       "<Figure size 1200x600 with 1 Axes>"
      ]
     },
     "metadata": {},
     "output_type": "display_data"
    },
    {
     "data": {
      "text/html": [
       "<div>\n",
       "<style scoped>\n",
       "    .dataframe tbody tr th:only-of-type {\n",
       "        vertical-align: middle;\n",
       "    }\n",
       "\n",
       "    .dataframe tbody tr th {\n",
       "        vertical-align: top;\n",
       "    }\n",
       "\n",
       "    .dataframe thead th {\n",
       "        text-align: right;\n",
       "    }\n",
       "</style>\n",
       "<table border=\"1\" class=\"dataframe\">\n",
       "  <thead>\n",
       "    <tr style=\"text-align: right;\">\n",
       "      <th></th>\n",
       "      <th>Target</th>\n",
       "      <th>IBT_numbers</th>\n",
       "      <th>Different IBTs</th>\n",
       "    </tr>\n",
       "  </thead>\n",
       "  <tbody>\n",
       "    <tr>\n",
       "      <th>15</th>\n",
       "      <td>Epicoccum-nigrum</td>\n",
       "      <td>[IBT 40303, IBT 23138, IBT 41379, IBT 42473, I...</td>\n",
       "      <td>5</td>\n",
       "    </tr>\n",
       "    <tr>\n",
       "      <th>44</th>\n",
       "      <td>Penicillium-rotoruae</td>\n",
       "      <td>[IBT 35839, IBT 35695, IBT 36523]</td>\n",
       "      <td>3</td>\n",
       "    </tr>\n",
       "    <tr>\n",
       "      <th>6</th>\n",
       "      <td>Aspergillus-flavus</td>\n",
       "      <td>[IBT 36710, IBT 36709]</td>\n",
       "      <td>2</td>\n",
       "    </tr>\n",
       "    <tr>\n",
       "      <th>20</th>\n",
       "      <td>Fusarium-tricinctum</td>\n",
       "      <td>[IBT 42760, IBT 41919]</td>\n",
       "      <td>2</td>\n",
       "    </tr>\n",
       "    <tr>\n",
       "      <th>21</th>\n",
       "      <td>Hamigera-avellanea</td>\n",
       "      <td>[IBT 26575, IBT 34882]</td>\n",
       "      <td>2</td>\n",
       "    </tr>\n",
       "    <tr>\n",
       "      <th>27</th>\n",
       "      <td>Nigrospora-oryzae</td>\n",
       "      <td>[IBT 42791, IBT 42908]</td>\n",
       "      <td>2</td>\n",
       "    </tr>\n",
       "    <tr>\n",
       "      <th>31</th>\n",
       "      <td>Penicillium-canescens</td>\n",
       "      <td>[IBT 36715, IBT 36716]</td>\n",
       "      <td>2</td>\n",
       "    </tr>\n",
       "    <tr>\n",
       "      <th>38</th>\n",
       "      <td>Penicillium-janczewskii</td>\n",
       "      <td>[IBT 36713, IBT 36714]</td>\n",
       "      <td>2</td>\n",
       "    </tr>\n",
       "    <tr>\n",
       "      <th>42</th>\n",
       "      <td>Penicillium-ochrochloron</td>\n",
       "      <td>[IBT 26878, IBT 35099]</td>\n",
       "      <td>2</td>\n",
       "    </tr>\n",
       "    <tr>\n",
       "      <th>46</th>\n",
       "      <td>Penicillium-scabrosum</td>\n",
       "      <td>[IBT 36712, IBT 36711]</td>\n",
       "      <td>2</td>\n",
       "    </tr>\n",
       "    <tr>\n",
       "      <th>50</th>\n",
       "      <td>Penicillium-wotroi</td>\n",
       "      <td>[IBT 23253, IBT 23255]</td>\n",
       "      <td>2</td>\n",
       "    </tr>\n",
       "    <tr>\n",
       "      <th>58</th>\n",
       "      <td>Rasamsonia-piperina</td>\n",
       "      <td>[IBT 31686, IBT 31686]</td>\n",
       "      <td>2</td>\n",
       "    </tr>\n",
       "    <tr>\n",
       "      <th>59</th>\n",
       "      <td>Rhizomucor-pusillus</td>\n",
       "      <td>[IBT 42145, IBT 42145]</td>\n",
       "      <td>2</td>\n",
       "    </tr>\n",
       "  </tbody>\n",
       "</table>\n",
       "</div>"
      ],
      "text/plain": [
       "                      Target  \\\n",
       "15          Epicoccum-nigrum   \n",
       "44      Penicillium-rotoruae   \n",
       "6         Aspergillus-flavus   \n",
       "20       Fusarium-tricinctum   \n",
       "21        Hamigera-avellanea   \n",
       "27         Nigrospora-oryzae   \n",
       "31     Penicillium-canescens   \n",
       "38   Penicillium-janczewskii   \n",
       "42  Penicillium-ochrochloron   \n",
       "46     Penicillium-scabrosum   \n",
       "50        Penicillium-wotroi   \n",
       "58       Rasamsonia-piperina   \n",
       "59       Rhizomucor-pusillus   \n",
       "\n",
       "                                          IBT_numbers  Different IBTs  \n",
       "15  [IBT 40303, IBT 23138, IBT 41379, IBT 42473, I...               5  \n",
       "44                  [IBT 35839, IBT 35695, IBT 36523]               3  \n",
       "6                              [IBT 36710, IBT 36709]               2  \n",
       "20                             [IBT 42760, IBT 41919]               2  \n",
       "21                             [IBT 26575, IBT 34882]               2  \n",
       "27                             [IBT 42791, IBT 42908]               2  \n",
       "31                             [IBT 36715, IBT 36716]               2  \n",
       "38                             [IBT 36713, IBT 36714]               2  \n",
       "42                             [IBT 26878, IBT 35099]               2  \n",
       "46                             [IBT 36712, IBT 36711]               2  \n",
       "50                             [IBT 23253, IBT 23255]               2  \n",
       "58                             [IBT 31686, IBT 31686]               2  \n",
       "59                             [IBT 42145, IBT 42145]               2  "
      ]
     },
     "execution_count": 7,
     "metadata": {},
     "output_type": "execute_result"
    }
   ],
   "source": [
    "from pathlib import Path\n",
    "import re\n",
    "\n",
    "ibt_numbers=[]\n",
    "img_paths=[]\n",
    "\n",
    "img_path = '/work3/s220243/Thesis'\n",
    "\n",
    "# Get a list of all the images paths\n",
    "img = Path(f\"{img_path}/images\")\n",
    "paths = list(img.glob('**/*.jpeg'))\n",
    "\n",
    "# Create list of all IBTs and paths to images for the given IBT\n",
    "for path in paths:\n",
    "  match = re.search(r'IBT \\d+',str(path))\n",
    "  if match:\n",
    "    ibt_numbers.append(match.group())\n",
    "    img_paths.append(str(path))\n",
    "  else:\n",
    "    ibt_numbers.append(\"ACU1\")\n",
    "    img_paths.append(str(path))\n",
    "\n",
    "    # Create DF from a lists\n",
    "paths_df = pd.DataFrame({\"IBT_number\": ibt_numbers,\n",
    "                     \"path\": img_paths})\n",
    "\n",
    "# Merge target_df and paths_df\n",
    "paths_df = paths_df.groupby('IBT_number')['path'].apply(list).reset_index()\n",
    "merged_df = pd.merge(IBTs_df, paths_df, on='IBT_number', how='inner')\n",
    "#merged_df.drop(columns=['path'])\n",
    "\n",
    "# Group by the 'Target' column and aggregate 'IBT_number' into a list\n",
    "grouped_df = merged_df.groupby('Target').agg({\n",
    "    'IBT_number': lambda x: list(x),\n",
    "}).reset_index()\n",
    "\n",
    "# Rename the aggregated column if needed\n",
    "grouped_df = grouped_df.rename(columns={'IBT_number': 'IBT_numbers'})\n",
    "\n",
    "grouped_df['Different IBTs'] = grouped_df['IBT_numbers'].apply(len)\n",
    "\n",
    "filtered_df = grouped_df[grouped_df['Different IBTs'] > 0]\n",
    "\n",
    "filtered_df = filtered_df.sort_values(by='Different IBTs', ascending=False)\n",
    "\n",
    "plt.figure(figsize=(12, 6))\n",
    "plt.bar(filtered_df['Target'], filtered_df['Different IBTs'], color='skyblue')\n",
    "plt.xlabel('Class')\n",
    "plt.ylabel('Number of IBTs')\n",
    "plt.title('Number of IBTs per Class')\n",
    "plt.xticks(rotation=90)\n",
    "plt.tight_layout()\n",
    "plt.show()\n",
    "\n",
    "filtered_df"
   ]
  },
  {
   "cell_type": "code",
   "execution_count": 28,
   "metadata": {},
   "outputs": [
    {
     "name": "stdout",
     "output_type": "stream",
     "text": [
      "                     Target        genus       species\n",
      "0       Penicillium-smithii  Penicillium       smithii\n",
      "1       Penicilluim-bilaiae  Penicilluim       bilaiae\n",
      "2   Penicilluim-malodoratum  Penicilluim   malodoratum\n",
      "3    Aspergillus-astellatus  Aspergillus    astellatus\n",
      "4     Aspergillus-aculentus  Aspergillus     aculentus\n",
      "..                      ...          ...           ...\n",
      "68   Stemphylium-vesicarium  Stemphylium    vesicarium\n",
      "69  Arthrinium-phaeospermum   Arthrinium  phaeospermum\n",
      "70        Sordaria-fimicola     Sordaria      fimicola\n",
      "71     Ulocladium-chartarum   Ulocladium     chartarum\n",
      "72    Asteromyces-cruciatus  Asteromyces     cruciatus\n",
      "\n",
      "[73 rows x 3 columns]\n"
     ]
    }
   ],
   "source": [
    "unique_targets = merged_df['Target'].unique()\n",
    "unique_targets_df = pd.DataFrame(unique_targets, columns=['Target'])\n",
    "unique_targets_df[['genus', 'species']] = unique_targets_df['Target'].str.split('-', n=1, expand=True)\n",
    "\n",
    "print(unique_targets_df)"
   ]
  },
  {
   "cell_type": "code",
   "execution_count": 41,
   "metadata": {},
   "outputs": [],
   "source": [
    "species_df = pd.DataFrame(unique_targets_df['species'].unique(), columns=['species'])\n",
    "genus_df = pd.DataFrame(unique_targets_df['genus'].unique(), columns=['genus'])"
   ]
  },
  {
   "cell_type": "code",
   "execution_count": 42,
   "metadata": {},
   "outputs": [],
   "source": [
    "species_count = species_df['species'].value_counts()\n",
    "genus_count = genus_df['genus'].value_counts()"
   ]
  },
  {
   "cell_type": "code",
   "execution_count": 59,
   "metadata": {},
   "outputs": [],
   "source": [
    "unique_targets_df['Target'] = unique_targets_df['Target'].replace('Penicilluim', 'Penicillium', regex=True)\n",
    "unique_targets_df['genus'] = unique_targets_df['genus'].replace('Penicilluim', 'Penicillium', regex=True)"
   ]
  },
  {
   "cell_type": "code",
   "execution_count": 60,
   "metadata": {},
   "outputs": [],
   "source": [
    "genus_species_count = unique_targets_df.groupby('genus')['species'].agg(['count']).reset_index()"
   ]
  },
  {
   "cell_type": "code",
   "execution_count": 80,
   "metadata": {},
   "outputs": [
    {
     "name": "stderr",
     "output_type": "stream",
     "text": [
      "/tmp/ipykernel_23130/3488821035.py:6: MatplotlibDeprecationWarning: The get_cmap function was deprecated in Matplotlib 3.7 and will be removed two minor releases later. Use ``matplotlib.colormaps[name]`` or ``matplotlib.colormaps.get_cmap(obj)`` instead.\n",
      "  colors = plt.cm.get_cmap('tab20c', 27).colors  # Use a colormap with 28 colors\n"
     ]
    },
    {
     "data": {
      "image/png": "[encoded data removed]",
      "text/plain": [
       "<Figure size 1200x800 with 1 Axes>"
      ]
     },
     "metadata": {},
     "output_type": "display_data"
    }
   ],
   "source": [
    "import matplotlib.pyplot as plt\n",
    "import numpy as np\n",
    "\n",
    "sizes = np.array(genus_species_count['count'])\n",
    "labels = list(genus_species_count['genus'])\n",
    "colors = plt.cm.get_cmap('tab20c', 27).colors  # Use a colormap with 28 colors\n",
    "\n",
    "# Define a function to format the numbers\n",
    "def absolute_value(val):\n",
    "    a = np.round(val / 100. * sum(sizes), 0)\n",
    "    return int(a)\n",
    "\n",
    "# Sort labels, sizes, and colors based on sizes descending\n",
    "sorted_data = sorted(zip(sizes, labels, colors), key=lambda x: x[0], reverse=True)\n",
    "sorted_sizes = [data[0] for data in sorted_data]\n",
    "sorted_labels = [data[1] for data in sorted_data]\n",
    "sorted_colors = [data[2] for data in sorted_data]\n",
    "\n",
    "# Create custom legend labels that include sizes\n",
    "legend_labels = [f'{label}: {size}' for label, size in zip(sorted_labels, sorted_sizes)]\n",
    "\n",
    "# Create the pie chart\n",
    "fig, ax = plt.subplots(figsize=(12, 8))\n",
    "wedges, texts, autotexts = ax.pie(\n",
    "    sorted_sizes,\n",
    "    labels=sorted_labels,\n",
    "    colors=sorted_colors,  # Use sorted colors\n",
    "    autopct=lambda pct: absolute_value(pct),\n",
    "    startangle=140,\n",
    "    wedgeprops=dict(width=0.3, edgecolor='w'),\n",
    "    pctdistance=0.85,\n",
    "    labeldistance=1.1  # Increase this value to increase the space between the labels and the pie\n",
    ")\n",
    "\n",
    "# Improve the text visibility\n",
    "for text in texts:\n",
    "    text.set_fontsize(4)\n",
    "    text.set_fontweight('bold')\n",
    "for autotext in autotexts:\n",
    "    autotext.set_fontsize(8)\n",
    "    autotext.set_color('white')\n",
    "    autotext.set_fontweight('bold')\n",
    "\n",
    "# Adjust label positions manually if necessary\n",
    "for text in texts:\n",
    "    text.set_horizontalalignment('center')\n",
    "\n",
    "# Equal aspect ratio ensures that pie is drawn as a circle.\n",
    "ax.axis('equal')\n",
    "\n",
    "# Add a legend\n",
    "ax.legend(wedges, legend_labels, title=\"Slices\", loc=\"center left\", bbox_to_anchor=(1, 0, 0.5, 1), fontsize='small')\n",
    "\n",
    "# Set the title\n",
    "plt.title('Genus-Species releation', fontsize=14, fontweight='bold')\n",
    "\n",
    "# Display the plot\n",
    "plt.tight_layout()\n",
    "plt.show()\n"
   ]
  },
  {
   "cell_type": "code",
   "execution_count": 84,
   "metadata": {},
   "outputs": [
    {
     "data": {
      "application/vnd.plotly.v1+json": {
       "config": {
        "plotlyServerURL": "https://plot.ly"
       },
       "data": [
        {
         "labels": [
          "Acremonium",
          "Arthrinium",
          "Aspergillus",
          "Asteromyces",
          "Aureobasidium",
          "Cladosporium",
          "Epicoccum",
          "Fusarium",
          "Hamigera",
          "Hypocrea",
          "Monascus",
          "Monilinia",
          "Nigrospora",
          "Penicillium",
          "Pesisa",
          "Pezicula",
          "Phoma",
          "Purpureocillium",
          "Rasamsonia",
          "Rhizomucor",
          "Rhizopus",
          "Sordaria",
          "Stemphylium",
          "Talaromyces",
          "Thermoascus",
          "Trichoderma",
          "Ulocladium"
         ],
         "parents": [
          "",
          "",
          "",
          "",
          "",
          "",
          "",
          "",
          "",
          "",
          "",
          "",
          "",
          "",
          "",
          "",
          "",
          "",
          "",
          "",
          "",
          "",
          "",
          "",
          "",
          "",
          ""
         ],
         "textinfo": "label+value",
         "type": "treemap",
         "values": [
          3,
          1,
          5,
          1,
          3,
          2,
          1,
          5,
          1,
          3,
          1,
          1,
          1,
          25,
          1,
          1,
          1,
          1,
          2,
          1,
          2,
          1,
          1,
          2,
          1,
          4,
          1
         ]
        }
       ],
       "layout": {
        "height": 600,
        "margin": {
         "b": 0,
         "l": 0,
         "r": 0,
         "t": 40
        },
        "template": {
         "data": {
          "bar": [
           {
            "error_x": {
             "color": "#2a3f5f"
            },
            "error_y": {
             "color": "#2a3f5f"
            },
            "marker": {
             "line": {
              "color": "#E5ECF6",
              "width": 0.5
             },
             "pattern": {
              "fillmode": "overlay",
              "size": 10,
              "solidity": 0.2
             }
            },
            "type": "bar"
           }
          ],
          "barpolar": [
           {
            "marker": {
             "line": {
              "color": "#E5ECF6",
              "width": 0.5
             },
             "pattern": {
              "fillmode": "overlay",
              "size": 10,
              "solidity": 0.2
             }
            },
            "type": "barpolar"
           }
          ],
          "carpet": [
           {
            "aaxis": {
             "endlinecolor": "#2a3f5f",
             "gridcolor": "white",
             "linecolor": "white",
             "minorgridcolor": "white",
             "startlinecolor": "#2a3f5f"
            },
            "baxis": {
             "endlinecolor": "#2a3f5f",
             "gridcolor": "white",
             "linecolor": "white",
             "minorgridcolor": "white",
             "startlinecolor": "#2a3f5f"
            },
            "type": "carpet"
           }
          ],
          "choropleth": [
           {
            "colorbar": {
             "outlinewidth": 0,
             "ticks": ""
            },
            "type": "choropleth"
           }
          ],
          "contour": [
           {
            "colorbar": {
             "outlinewidth": 0,
             "ticks": ""
            },
            "colorscale": [
             [
              0,
              "#0d0887"
             ],
             [
              0.1111111111111111,
              "#46039f"
             ],
             [
              0.2222222222222222,
              "#7201a8"
             ],
             [
              0.3333333333333333,
              "#9c179e"
             ],
             [
              0.4444444444444444,
              "#bd3786"
             ],
             [
              0.5555555555555556,
              "#d8576b"
             ],
             [
              0.6666666666666666,
              "#ed7953"
             ],
             [
              0.7777777777777778,
              "#fb9f3a"
             ],
             [
              0.8888888888888888,
              "#fdca26"
             ],
             [
              1,
              "#f0f921"
             ]
            ],
            "type": "contour"
           }
          ],
          "contourcarpet": [
           {
            "colorbar": {
             "outlinewidth": 0,
             "ticks": ""
            },
            "type": "contourcarpet"
           }
          ],
          "heatmap": [
           {
            "colorbar": {
             "outlinewidth": 0,
             "ticks": ""
            },
            "colorscale": [
             [
              0,
              "#0d0887"
             ],
             [
              0.1111111111111111,
              "#46039f"
             ],
             [
              0.2222222222222222,
              "#7201a8"
             ],
             [
              0.3333333333333333,
              "#9c179e"
             ],
             [
              0.4444444444444444,
              "#bd3786"
             ],
             [
              0.5555555555555556,
              "#d8576b"
             ],
             [
              0.6666666666666666,
              "#ed7953"
             ],
             [
              0.7777777777777778,
              "#fb9f3a"
             ],
             [
              0.8888888888888888,
              "#fdca26"
             ],
             [
              1,
              "#f0f921"
             ]
            ],
            "type": "heatmap"
           }
          ],
          "heatmapgl": [
           {
            "colorbar": {
             "outlinewidth": 0,
             "ticks": ""
            },
            "colorscale": [
             [
              0,
              "#0d0887"
             ],
             [
              0.1111111111111111,
              "#46039f"
             ],
             [
              0.2222222222222222,
              "#7201a8"
             ],
             [
              0.3333333333333333,
              "#9c179e"
             ],
             [
              0.4444444444444444,
              "#bd3786"
             ],
             [
              0.5555555555555556,
              "#d8576b"
             ],
             [
              0.6666666666666666,
              "#ed7953"
             ],
             [
              0.7777777777777778,
              "#fb9f3a"
             ],
             [
              0.8888888888888888,
              "#fdca26"
             ],
             [
              1,
              "#f0f921"
             ]
            ],
            "type": "heatmapgl"
           }
          ],
          "histogram": [
           {
            "marker": {
             "pattern": {
              "fillmode": "overlay",
              "size": 10,
              "solidity": 0.2
             }
            },
            "type": "histogram"
           }
          ],
          "histogram2d": [
           {
            "colorbar": {
             "outlinewidth": 0,
             "ticks": ""
            },
            "colorscale": [
             [
              0,
              "#0d0887"
             ],
             [
              0.1111111111111111,
              "#46039f"
             ],
             [
              0.2222222222222222,
              "#7201a8"
             ],
             [
              0.3333333333333333,
              "#9c179e"
             ],
             [
              0.4444444444444444,
              "#bd3786"
             ],
             [
              0.5555555555555556,
              "#d8576b"
             ],
             [
              0.6666666666666666,
              "#ed7953"
             ],
             [
              0.7777777777777778,
              "#fb9f3a"
             ],
             [
              0.8888888888888888,
              "#fdca26"
             ],
             [
              1,
              "#f0f921"
             ]
            ],
            "type": "histogram2d"
           }
          ],
          "histogram2dcontour": [
           {
            "colorbar": {
             "outlinewidth": 0,
             "ticks": ""
            },
            "colorscale": [
             [
              0,
              "#0d0887"
             ],
             [
              0.1111111111111111,
              "#46039f"
             ],
             [
              0.2222222222222222,
              "#7201a8"
             ],
             [
              0.3333333333333333,
              "#9c179e"
             ],
             [
              0.4444444444444444,
              "#bd3786"
             ],
             [
              0.5555555555555556,
              "#d8576b"
             ],
             [
              0.6666666666666666,
              "#ed7953"
             ],
             [
              0.7777777777777778,
              "#fb9f3a"
             ],
             [
              0.8888888888888888,
              "#fdca26"
             ],
             [
              1,
              "#f0f921"
             ]
            ],
            "type": "histogram2dcontour"
           }
          ],
          "mesh3d": [
           {
            "colorbar": {
             "outlinewidth": 0,
             "ticks": ""
            },
            "type": "mesh3d"
           }
          ],
          "parcoords": [
           {
            "line": {
             "colorbar": {
              "outlinewidth": 0,
              "ticks": ""
             }
            },
            "type": "parcoords"
           }
          ],
          "pie": [
           {
            "automargin": true,
            "type": "pie"
           }
          ],
          "scatter": [
           {
            "fillpattern": {
             "fillmode": "overlay",
             "size": 10,
             "solidity": 0.2
            },
            "type": "scatter"
           }
          ],
          "scatter3d": [
           {
            "line": {
             "colorbar": {
              "outlinewidth": 0,
              "ticks": ""
             }
            },
            "marker": {
             "colorbar": {
              "outlinewidth": 0,
              "ticks": ""
             }
            },
            "type": "scatter3d"
           }
          ],
          "scattercarpet": [
           {
            "marker": {
             "colorbar": {
              "outlinewidth": 0,
              "ticks": ""
             }
            },
            "type": "scattercarpet"
           }
          ],
          "scattergeo": [
           {
            "marker": {
             "colorbar": {
              "outlinewidth": 0,
              "ticks": ""
             }
            },
            "type": "scattergeo"
           }
          ],
          "scattergl": [
           {
            "marker": {
             "colorbar": {
              "outlinewidth": 0,
              "ticks": ""
             }
            },
            "type": "scattergl"
           }
          ],
          "scattermapbox": [
           {
            "marker": {
             "colorbar": {
              "outlinewidth": 0,
              "ticks": ""
             }
            },
            "type": "scattermapbox"
           }
          ],
          "scatterpolar": [
           {
            "marker": {
             "colorbar": {
              "outlinewidth": 0,
              "ticks": ""
             }
            },
            "type": "scatterpolar"
           }
          ],
          "scatterpolargl": [
           {
            "marker": {
             "colorbar": {
              "outlinewidth": 0,
              "ticks": ""
             }
            },
            "type": "scatterpolargl"
           }
          ],
          "scatterternary": [
           {
            "marker": {
             "colorbar": {
              "outlinewidth": 0,
              "ticks": ""
             }
            },
            "type": "scatterternary"
           }
          ],
          "surface": [
           {
            "colorbar": {
             "outlinewidth": 0,
             "ticks": ""
            },
            "colorscale": [
             [
              0,
              "#0d0887"
             ],
             [
              0.1111111111111111,
              "#46039f"
             ],
             [
              0.2222222222222222,
              "#7201a8"
             ],
             [
              0.3333333333333333,
              "#9c179e"
             ],
             [
              0.4444444444444444,
              "#bd3786"
             ],
             [
              0.5555555555555556,
              "#d8576b"
             ],
             [
              0.6666666666666666,
              "#ed7953"
             ],
             [
              0.7777777777777778,
              "#fb9f3a"
             ],
             [
              0.8888888888888888,
              "#fdca26"
             ],
             [
              1,
              "#f0f921"
             ]
            ],
            "type": "surface"
           }
          ],
          "table": [
           {
            "cells": {
             "fill": {
              "color": "#EBF0F8"
             },
             "line": {
              "color": "white"
             }
            },
            "header": {
             "fill": {
              "color": "#C8D4E3"
             },
             "line": {
              "color": "white"
             }
            },
            "type": "table"
           }
          ]
         },
         "layout": {
          "annotationdefaults": {
           "arrowcolor": "#2a3f5f",
           "arrowhead": 0,
           "arrowwidth": 1
          },
          "autotypenumbers": "strict",
          "coloraxis": {
           "colorbar": {
            "outlinewidth": 0,
            "ticks": ""
           }
          },
          "colorscale": {
           "diverging": [
            [
             0,
             "#8e0152"
            ],
            [
             0.1,
             "#c51b7d"
            ],
            [
             0.2,
             "#de77ae"
            ],
            [
             0.3,
             "#f1b6da"
            ],
            [
             0.4,
             "#fde0ef"
            ],
            [
             0.5,
             "#f7f7f7"
            ],
            [
             0.6,
             "#e6f5d0"
            ],
            [
             0.7,
             "#b8e186"
            ],
            [
             0.8,
             "#7fbc41"
            ],
            [
             0.9,
             "#4d9221"
            ],
            [
             1,
             "#276419"
            ]
           ],
           "sequential": [
            [
             0,
             "#0d0887"
            ],
            [
             0.1111111111111111,
             "#46039f"
            ],
            [
             0.2222222222222222,
             "#7201a8"
            ],
            [
             0.3333333333333333,
             "#9c179e"
            ],
            [
             0.4444444444444444,
             "#bd3786"
            ],
            [
             0.5555555555555556,
             "#d8576b"
            ],
            [
             0.6666666666666666,
             "#ed7953"
            ],
            [
             0.7777777777777778,
             "#fb9f3a"
            ],
            [
             0.8888888888888888,
             "#fdca26"
            ],
            [
             1,
             "#f0f921"
            ]
           ],
           "sequentialminus": [
            [
             0,
             "#0d0887"
            ],
            [
             0.1111111111111111,
             "#46039f"
            ],
            [
             0.2222222222222222,
             "#7201a8"
            ],
            [
             0.3333333333333333,
             "#9c179e"
            ],
            [
             0.4444444444444444,
             "#bd3786"
            ],
            [
             0.5555555555555556,
             "#d8576b"
            ],
            [
             0.6666666666666666,
             "#ed7953"
            ],
            [
             0.7777777777777778,
             "#fb9f3a"
            ],
            [
             0.8888888888888888,
             "#fdca26"
            ],
            [
             1,
             "#f0f921"
            ]
           ]
          },
          "colorway": [
           "#636efa",
           "#EF553B",
           "#00cc96",
           "#ab63fa",
           "#FFA15A",
           "#19d3f3",
           "#FF6692",
           "#B6E880",
           "#FF97FF",
           "#FECB52"
          ],
          "font": {
           "color": "#2a3f5f"
          },
          "geo": {
           "bgcolor": "white",
           "lakecolor": "white",
           "landcolor": "#E5ECF6",
           "showlakes": true,
           "showland": true,
           "subunitcolor": "white"
          },
          "hoverlabel": {
           "align": "left"
          },
          "hovermode": "closest",
          "mapbox": {
           "style": "light"
          },
          "paper_bgcolor": "white",
          "plot_bgcolor": "#E5ECF6",
          "polar": {
           "angularaxis": {
            "gridcolor": "white",
            "linecolor": "white",
            "ticks": ""
           },
           "bgcolor": "#E5ECF6",
           "radialaxis": {
            "gridcolor": "white",
            "linecolor": "white",
            "ticks": ""
           }
          },
          "scene": {
           "xaxis": {
            "backgroundcolor": "#E5ECF6",
            "gridcolor": "white",
            "gridwidth": 2,
            "linecolor": "white",
            "showbackground": true,
            "ticks": "",
            "zerolinecolor": "white"
           },
           "yaxis": {
            "backgroundcolor": "#E5ECF6",
            "gridcolor": "white",
            "gridwidth": 2,
            "linecolor": "white",
            "showbackground": true,
            "ticks": "",
            "zerolinecolor": "white"
           },
           "zaxis": {
            "backgroundcolor": "#E5ECF6",
            "gridcolor": "white",
            "gridwidth": 2,
            "linecolor": "white",
            "showbackground": true,
            "ticks": "",
            "zerolinecolor": "white"
           }
          },
          "shapedefaults": {
           "line": {
            "color": "#2a3f5f"
           }
          },
          "ternary": {
           "aaxis": {
            "gridcolor": "white",
            "linecolor": "white",
            "ticks": ""
           },
           "baxis": {
            "gridcolor": "white",
            "linecolor": "white",
            "ticks": ""
           },
           "bgcolor": "#E5ECF6",
           "caxis": {
            "gridcolor": "white",
            "linecolor": "white",
            "ticks": ""
           }
          },
          "title": {
           "x": 0.05
          },
          "xaxis": {
           "automargin": true,
           "gridcolor": "white",
           "linecolor": "white",
           "ticks": "",
           "title": {
            "standoff": 15
           },
           "zerolinecolor": "white",
           "zerolinewidth": 2
          },
          "yaxis": {
           "automargin": true,
           "gridcolor": "white",
           "linecolor": "white",
           "ticks": "",
           "title": {
            "standoff": 15
           },
           "zerolinecolor": "white",
           "zerolinewidth": 2
          }
         }
        },
        "title": {
         "text": "Genus-Species relation"
        },
        "treemapcolorway": [
         "SkyBlue",
         "LightGray"
        ],
        "width": 800
       }
      },
      "text/html": [
       "<div>                            <div id=\"8c1f1246-aa65-4234-976f-82fd81b8ad73\" class=\"plotly-graph-div\" style=\"height:600px; width:800px;\"></div>            <script type=\"text/javascript\">                require([\"plotly\"], function(Plotly) {                    window.PLOTLYENV=window.PLOTLYENV || {};                                    if (document.getElementById(\"8c1f1246-aa65-4234-976f-82fd81b8ad73\")) {                    Plotly.newPlot(                        \"8c1f1246-aa65-4234-976f-82fd81b8ad73\",                        [{\"labels\":[\"Acremonium\",\"Arthrinium\",\"Aspergillus\",\"Asteromyces\",\"Aureobasidium\",\"Cladosporium\",\"Epicoccum\",\"Fusarium\",\"Hamigera\",\"Hypocrea\",\"Monascus\",\"Monilinia\",\"Nigrospora\",\"Penicillium\",\"Pesisa\",\"Pezicula\",\"Phoma\",\"Purpureocillium\",\"Rasamsonia\",\"Rhizomucor\",\"Rhizopus\",\"Sordaria\",\"Stemphylium\",\"Talaromyces\",\"Thermoascus\",\"Trichoderma\",\"Ulocladium\"],\"parents\":[\"\",\"\",\"\",\"\",\"\",\"\",\"\",\"\",\"\",\"\",\"\",\"\",\"\",\"\",\"\",\"\",\"\",\"\",\"\",\"\",\"\",\"\",\"\",\"\",\"\",\"\",\"\"],\"textinfo\":\"label+value\",\"values\":[3,1,5,1,3,2,1,5,1,3,1,1,1,25,1,1,1,1,2,1,2,1,1,2,1,4,1],\"type\":\"treemap\"}],                        {\"template\":{\"data\":{\"histogram2dcontour\":[{\"type\":\"histogram2dcontour\",\"colorbar\":{\"outlinewidth\":0,\"ticks\":\"\"},\"colorscale\":[[0.0,\"#0d0887\"],[0.1111111111111111,\"#46039f\"],[0.2222222222222222,\"#7201a8\"],[0.3333333333333333,\"#9c179e\"],[0.4444444444444444,\"#bd3786\"],[0.5555555555555556,\"#d8576b\"],[0.6666666666666666,\"#ed7953\"],[0.7777777777777778,\"#fb9f3a\"],[0.8888888888888888,\"#fdca26\"],[1.0,\"#f0f921\"]]}],\"choropleth\":[{\"type\":\"choropleth\",\"colorbar\":{\"outlinewidth\":0,\"ticks\":\"\"}}],\"histogram2d\":[{\"type\":\"histogram2d\",\"colorbar\":{\"outlinewidth\":0,\"ticks\":\"\"},\"colorscale\":[[0.0,\"#0d0887\"],[0.1111111111111111,\"#46039f\"],[0.2222222222222222,\"#7201a8\"],[0.3333333333333333,\"#9c179e\"],[0.4444444444444444,\"#bd3786\"],[0.5555555555555556,\"#d8576b\"],[0.6666666666666666,\"#ed7953\"],[0.7777777777777778,\"#fb9f3a\"],[0.8888888888888888,\"#fdca26\"],[1.0,\"#f0f921\"]]}],\"heatmap\":[{\"type\":\"heatmap\",\"colorbar\":{\"outlinewidth\":0,\"ticks\":\"\"},\"colorscale\":[[0.0,\"#0d0887\"],[0.1111111111111111,\"#46039f\"],[0.2222222222222222,\"#7201a8\"],[0.3333333333333333,\"#9c179e\"],[0.4444444444444444,\"#bd3786\"],[0.5555555555555556,\"#d8576b\"],[0.6666666666666666,\"#ed7953\"],[0.7777777777777778,\"#fb9f3a\"],[0.8888888888888888,\"#fdca26\"],[1.0,\"#f0f921\"]]}],\"heatmapgl\":[{\"type\":\"heatmapgl\",\"colorbar\":{\"outlinewidth\":0,\"ticks\":\"\"},\"colorscale\":[[0.0,\"#0d0887\"],[0.1111111111111111,\"#46039f\"],[0.2222222222222222,\"#7201a8\"],[0.3333333333333333,\"#9c179e\"],[0.4444444444444444,\"#bd3786\"],[0.5555555555555556,\"#d8576b\"],[0.6666666666666666,\"#ed7953\"],[0.7777777777777778,\"#fb9f3a\"],[0.8888888888888888,\"#fdca26\"],[1.0,\"#f0f921\"]]}],\"contourcarpet\":[{\"type\":\"contourcarpet\",\"colorbar\":{\"outlinewidth\":0,\"ticks\":\"\"}}],\"contour\":[{\"type\":\"contour\",\"colorbar\":{\"outlinewidth\":0,\"ticks\":\"\"},\"colorscale\":[[0.0,\"#0d0887\"],[0.1111111111111111,\"#46039f\"],[0.2222222222222222,\"#7201a8\"],[0.3333333333333333,\"#9c179e\"],[0.4444444444444444,\"#bd3786\"],[0.5555555555555556,\"#d8576b\"],[0.6666666666666666,\"#ed7953\"],[0.7777777777777778,\"#fb9f3a\"],[0.8888888888888888,\"#fdca26\"],[1.0,\"#f0f921\"]]}],\"surface\":[{\"type\":\"surface\",\"colorbar\":{\"outlinewidth\":0,\"ticks\":\"\"},\"colorscale\":[[0.0,\"#0d0887\"],[0.1111111111111111,\"#46039f\"],[0.2222222222222222,\"#7201a8\"],[0.3333333333333333,\"#9c179e\"],[0.4444444444444444,\"#bd3786\"],[0.5555555555555556,\"#d8576b\"],[0.6666666666666666,\"#ed7953\"],[0.7777777777777778,\"#fb9f3a\"],[0.8888888888888888,\"#fdca26\"],[1.0,\"#f0f921\"]]}],\"mesh3d\":[{\"type\":\"mesh3d\",\"colorbar\":{\"outlinewidth\":0,\"ticks\":\"\"}}],\"scatter\":[{\"fillpattern\":{\"fillmode\":\"overlay\",\"size\":10,\"solidity\":0.2},\"type\":\"scatter\"}],\"parcoords\":[{\"type\":\"parcoords\",\"line\":{\"colorbar\":{\"outlinewidth\":0,\"ticks\":\"\"}}}],\"scatterpolargl\":[{\"type\":\"scatterpolargl\",\"marker\":{\"colorbar\":{\"outlinewidth\":0,\"ticks\":\"\"}}}],\"bar\":[{\"error_x\":{\"color\":\"#2a3f5f\"},\"error_y\":{\"color\":\"#2a3f5f\"},\"marker\":{\"line\":{\"color\":\"#E5ECF6\",\"width\":0.5},\"pattern\":{\"fillmode\":\"overlay\",\"size\":10,\"solidity\":0.2}},\"type\":\"bar\"}],\"scattergeo\":[{\"type\":\"scattergeo\",\"marker\":{\"colorbar\":{\"outlinewidth\":0,\"ticks\":\"\"}}}],\"scatterpolar\":[{\"type\":\"scatterpolar\",\"marker\":{\"colorbar\":{\"outlinewidth\":0,\"ticks\":\"\"}}}],\"histogram\":[{\"marker\":{\"pattern\":{\"fillmode\":\"overlay\",\"size\":10,\"solidity\":0.2}},\"type\":\"histogram\"}],\"scattergl\":[{\"type\":\"scattergl\",\"marker\":{\"colorbar\":{\"outlinewidth\":0,\"ticks\":\"\"}}}],\"scatter3d\":[{\"type\":\"scatter3d\",\"line\":{\"colorbar\":{\"outlinewidth\":0,\"ticks\":\"\"}},\"marker\":{\"colorbar\":{\"outlinewidth\":0,\"ticks\":\"\"}}}],\"scattermapbox\":[{\"type\":\"scattermapbox\",\"marker\":{\"colorbar\":{\"outlinewidth\":0,\"ticks\":\"\"}}}],\"scatterternary\":[{\"type\":\"scatterternary\",\"marker\":{\"colorbar\":{\"outlinewidth\":0,\"ticks\":\"\"}}}],\"scattercarpet\":[{\"type\":\"scattercarpet\",\"marker\":{\"colorbar\":{\"outlinewidth\":0,\"ticks\":\"\"}}}],\"carpet\":[{\"aaxis\":{\"endlinecolor\":\"#2a3f5f\",\"gridcolor\":\"white\",\"linecolor\":\"white\",\"minorgridcolor\":\"white\",\"startlinecolor\":\"#2a3f5f\"},\"baxis\":{\"endlinecolor\":\"#2a3f5f\",\"gridcolor\":\"white\",\"linecolor\":\"white\",\"minorgridcolor\":\"white\",\"startlinecolor\":\"#2a3f5f\"},\"type\":\"carpet\"}],\"table\":[{\"cells\":{\"fill\":{\"color\":\"#EBF0F8\"},\"line\":{\"color\":\"white\"}},\"header\":{\"fill\":{\"color\":\"#C8D4E3\"},\"line\":{\"color\":\"white\"}},\"type\":\"table\"}],\"barpolar\":[{\"marker\":{\"line\":{\"color\":\"#E5ECF6\",\"width\":0.5},\"pattern\":{\"fillmode\":\"overlay\",\"size\":10,\"solidity\":0.2}},\"type\":\"barpolar\"}],\"pie\":[{\"automargin\":true,\"type\":\"pie\"}]},\"layout\":{\"autotypenumbers\":\"strict\",\"colorway\":[\"#636efa\",\"#EF553B\",\"#00cc96\",\"#ab63fa\",\"#FFA15A\",\"#19d3f3\",\"#FF6692\",\"#B6E880\",\"#FF97FF\",\"#FECB52\"],\"font\":{\"color\":\"#2a3f5f\"},\"hovermode\":\"closest\",\"hoverlabel\":{\"align\":\"left\"},\"paper_bgcolor\":\"white\",\"plot_bgcolor\":\"#E5ECF6\",\"polar\":{\"bgcolor\":\"#E5ECF6\",\"angularaxis\":{\"gridcolor\":\"white\",\"linecolor\":\"white\",\"ticks\":\"\"},\"radialaxis\":{\"gridcolor\":\"white\",\"linecolor\":\"white\",\"ticks\":\"\"}},\"ternary\":{\"bgcolor\":\"#E5ECF6\",\"aaxis\":{\"gridcolor\":\"white\",\"linecolor\":\"white\",\"ticks\":\"\"},\"baxis\":{\"gridcolor\":\"white\",\"linecolor\":\"white\",\"ticks\":\"\"},\"caxis\":{\"gridcolor\":\"white\",\"linecolor\":\"white\",\"ticks\":\"\"}},\"coloraxis\":{\"colorbar\":{\"outlinewidth\":0,\"ticks\":\"\"}},\"colorscale\":{\"sequential\":[[0.0,\"#0d0887\"],[0.1111111111111111,\"#46039f\"],[0.2222222222222222,\"#7201a8\"],[0.3333333333333333,\"#9c179e\"],[0.4444444444444444,\"#bd3786\"],[0.5555555555555556,\"#d8576b\"],[0.6666666666666666,\"#ed7953\"],[0.7777777777777778,\"#fb9f3a\"],[0.8888888888888888,\"#fdca26\"],[1.0,\"#f0f921\"]],\"sequentialminus\":[[0.0,\"#0d0887\"],[0.1111111111111111,\"#46039f\"],[0.2222222222222222,\"#7201a8\"],[0.3333333333333333,\"#9c179e\"],[0.4444444444444444,\"#bd3786\"],[0.5555555555555556,\"#d8576b\"],[0.6666666666666666,\"#ed7953\"],[0.7777777777777778,\"#fb9f3a\"],[0.8888888888888888,\"#fdca26\"],[1.0,\"#f0f921\"]],\"diverging\":[[0,\"#8e0152\"],[0.1,\"#c51b7d\"],[0.2,\"#de77ae\"],[0.3,\"#f1b6da\"],[0.4,\"#fde0ef\"],[0.5,\"#f7f7f7\"],[0.6,\"#e6f5d0\"],[0.7,\"#b8e186\"],[0.8,\"#7fbc41\"],[0.9,\"#4d9221\"],[1,\"#276419\"]]},\"xaxis\":{\"gridcolor\":\"white\",\"linecolor\":\"white\",\"ticks\":\"\",\"title\":{\"standoff\":15},\"zerolinecolor\":\"white\",\"automargin\":true,\"zerolinewidth\":2},\"yaxis\":{\"gridcolor\":\"white\",\"linecolor\":\"white\",\"ticks\":\"\",\"title\":{\"standoff\":15},\"zerolinecolor\":\"white\",\"automargin\":true,\"zerolinewidth\":2},\"scene\":{\"xaxis\":{\"backgroundcolor\":\"#E5ECF6\",\"gridcolor\":\"white\",\"linecolor\":\"white\",\"showbackground\":true,\"ticks\":\"\",\"zerolinecolor\":\"white\",\"gridwidth\":2},\"yaxis\":{\"backgroundcolor\":\"#E5ECF6\",\"gridcolor\":\"white\",\"linecolor\":\"white\",\"showbackground\":true,\"ticks\":\"\",\"zerolinecolor\":\"white\",\"gridwidth\":2},\"zaxis\":{\"backgroundcolor\":\"#E5ECF6\",\"gridcolor\":\"white\",\"linecolor\":\"white\",\"showbackground\":true,\"ticks\":\"\",\"zerolinecolor\":\"white\",\"gridwidth\":2}},\"shapedefaults\":{\"line\":{\"color\":\"#2a3f5f\"}},\"annotationdefaults\":{\"arrowcolor\":\"#2a3f5f\",\"arrowhead\":0,\"arrowwidth\":1},\"geo\":{\"bgcolor\":\"white\",\"landcolor\":\"#E5ECF6\",\"subunitcolor\":\"white\",\"showland\":true,\"showlakes\":true,\"lakecolor\":\"white\"},\"title\":{\"x\":0.05},\"mapbox\":{\"style\":\"light\"}}},\"margin\":{\"l\":0,\"r\":0,\"t\":40,\"b\":0},\"title\":{\"text\":\"Genus-Species relation\"},\"treemapcolorway\":[\"SkyBlue\",\"LightGray\"],\"width\":800,\"height\":600},                        {\"responsive\": true}                    ).then(function(){\n",
       "                            \n",
       "var gd = document.getElementById('8c1f1246-aa65-4234-976f-82fd81b8ad73');\n",
       "var x = new MutationObserver(function (mutations, observer) {{\n",
       "        var display = window.getComputedStyle(gd).display;\n",
       "        if (!display || display === 'none') {{\n",
       "            console.log([gd, 'removed!']);\n",
       "            Plotly.purge(gd);\n",
       "            observer.disconnect();\n",
       "        }}\n",
       "}});\n",
       "\n",
       "// Listen for the removal of the full notebook cells\n",
       "var notebookContainer = gd.closest('#notebook-container');\n",
       "if (notebookContainer) {{\n",
       "    x.observe(notebookContainer, {childList: true});\n",
       "}}\n",
       "\n",
       "// Listen for the clearing of the current output cell\n",
       "var outputEl = gd.closest('.output');\n",
       "if (outputEl) {{\n",
       "    x.observe(outputEl, {childList: true});\n",
       "}}\n",
       "\n",
       "                        })                };                });            </script>        </div>"
      ]
     },
     "metadata": {},
     "output_type": "display_data"
    }
   ],
   "source": [
    "# Filter out any 'Total' rows if present\n",
    "genus_species_count_plot = genus_species_count[genus_species_count['genus'] != 'Total']\n",
    "\n",
    "# Create the treemap plot\n",
    "fig = go.Figure(go.Treemap(\n",
    "    labels=genus_species_count_plot['genus'],\n",
    "    parents=[''] * len(genus_species_count_plot['genus']),\n",
    "    values=genus_species_count_plot['count'],\n",
    "    textinfo=\"label+value\"\n",
    "))\n",
    "\n",
    "# Update layout for better appearance\n",
    "fig.update_layout(\n",
    "    title=\"Genus-Species relation\",\n",
    "    treemapcolorway=[\"SkyBlue\", \"LightGray\"],  # Adjust colors as needed\n",
    "    width=800,  # Adjust width as per your preference\n",
    "    height=600,  # Adjust height as per your preference\n",
    "    margin=dict(l=0, r=0, t=40, b=0),  # Adjust margins for better layout\n",
    ")\n",
    "\n",
    "fig.show()"
   ]
  }
 ],
 "metadata": {
  "kernelspec": {
   "display_name": "fungi",
   "language": "python",
   "name": "python3"
  },
  "language_info": {
   "codemirror_mode": {
    "name": "ipython",
    "version": 3
   },
   "file_extension": ".py",
   "mimetype": "text/x-python",
   "name": "python",
   "nbconvert_exporter": "python",
   "pygments_lexer": "ipython3",
   "version": "3.12.3"
  }
 },
 "nbformat": 4,
 "nbformat_minor": 2
}
